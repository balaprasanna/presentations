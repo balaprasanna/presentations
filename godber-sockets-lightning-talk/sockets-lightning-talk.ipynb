{
 "cells": [
  {
   "cell_type": "markdown",
   "metadata": {
    "slideshow": {
     "slide_type": "slide"
    }
   },
   "source": [
    "# Poll for May 24th PyMOTW3 Lightning Talk\n",
    "\n",
    "http://poll.fm/5skde"
   ]
  },
  {
   "cell_type": "markdown",
   "metadata": {
    "slideshow": {
     "slide_type": "fragment"
    }
   },
   "source": [
    "FYI: I'll be strolling the beaches of Hawaii on this date, so it will really be up to you!!!"
   ]
  },
  {
   "cell_type": "markdown",
   "metadata": {
    "slideshow": {
     "slide_type": "slide"
    }
   },
   "source": [
    "<img src=\"python-logo-generic.svg\" alt=\"Python Logo\">\n",
    "\n",
    "# Python Network Sockets\n",
    "\n",
    "**Austin Godber**  \n",
    "**@godber**  \n",
    "DesertPy Co-Organizer  \n",
    "Meetup, Github and http://desertpy.com"
   ]
  },
  {
   "cell_type": "markdown",
   "metadata": {
    "slideshow": {
     "slide_type": "subslide"
    }
   },
   "source": [
    "# Inspiration from Doug Hellman's PyMOTW\n",
    "\n",
    "* PyMOTW3 - https://goo.gl/Rj4h9K\n",
    "* Python 3 Std Lib By Example Book - https://goo.gl/5d2TF9"
   ]
  },
  {
   "cell_type": "markdown",
   "metadata": {
    "slideshow": {
     "slide_type": "slide"
    }
   },
   "source": [
    "# What is a socket?\n",
    "\n",
    "\"A socket is defined to be the unique identification to or from which\n",
    "information is transmitted in the network.\" - RFC 147, May 7th, 1971\n",
    "\n",
    "https://tools.ietf.org/html/rfc147"
   ]
  },
  {
   "cell_type": "markdown",
   "metadata": {
    "slideshow": {
     "slide_type": "subslide"
    }
   },
   "source": [
    "# What does a socket look like in my code?\n",
    "\n",
    "A network socket works a lot like a file handle but for network data.  It is the variable in your code that you write data to or read data from.  Sometimes doing so will be complicated by \"**messy details**\"."
   ]
  },
  {
   "cell_type": "markdown",
   "metadata": {
    "slideshow": {
     "slide_type": "fragment"
    }
   },
   "source": [
    "The \"**messy details**\" for writing to or reading from the socket is usually defined by a \"protocol\"."
   ]
  },
  {
   "cell_type": "markdown",
   "metadata": {
    "slideshow": {
     "slide_type": "fragment"
    }
   },
   "source": [
    "The \"**messy details**\" of generating properly formed packets and transmitting them to the right place is handled by the socket library, your OS and hardware."
   ]
  },
  {
   "cell_type": "markdown",
   "metadata": {
    "slideshow": {
     "slide_type": "subslide"
    }
   },
   "source": [
    "# Python Socket Implementation\n",
    "\n",
    "Wraps numerous system (OS) level C socket imlpementations."
   ]
  },
  {
   "cell_type": "markdown",
   "metadata": {
    "slideshow": {
     "slide_type": "fragment"
    }
   },
   "source": [
    "Python sockets are not limited to network sockets, but this talk is ..."
   ]
  },
  {
   "cell_type": "markdown",
   "metadata": {
    "slideshow": {
     "slide_type": "subslide"
    }
   },
   "source": [
    "# BSD Sockets\n",
    "\n",
    "* Network Sockets\n",
    "  * TCP - connection oriented\n",
    "    * IPv4 Sockets\n",
    "    * IPv6 Sockets\n",
    "  * UDP - message oriented\n",
    "* UNIX Domain Sockets\n",
    "* Bluetooth\n",
    "* Others"
   ]
  },
  {
   "cell_type": "markdown",
   "metadata": {
    "slideshow": {
     "slide_type": "slide"
    }
   },
   "source": [
    "# Python TCP/IPv4 Sockets\n",
    "\n",
    "* Used to establish connections for common networking protocols like HTTP(S), SMTP, or FTP\n",
    "* IPv6 is the next generation\n",
    "* Sockets are a \"middle layer\" in an application's network stack\n",
    "* Protocols are implemented on top of sockets."
   ]
  },
  {
   "cell_type": "markdown",
   "metadata": {
    "slideshow": {
     "slide_type": "subslide"
    }
   },
   "source": [
    "<img src=\"Sockets-middle-network-stack.png\" alt=\"Sockets are in the middle of the stack\" height=\"200px\">"
   ]
  },
  {
   "cell_type": "markdown",
   "metadata": {
    "slideshow": {
     "slide_type": "subslide"
    }
   },
   "source": [
    "<img src=\"Osi-model-jb.svg\" alt=\"OSI Model\">"
   ]
  },
  {
   "cell_type": "markdown",
   "metadata": {
    "slideshow": {
     "slide_type": "slide"
    }
   },
   "source": [
    "# Example Echo Client Server\n",
    "\n",
    "<img src=\"Socket-Example-Echo-Client-Server.svg\" alt=\"Echo Client Server\">\n",
    "\n",
    "* https://pymotw.com/3/socket/tcp.html\n",
    "* https://docs.python.org/3/library/socket.html#example"
   ]
  },
  {
   "cell_type": "markdown",
   "metadata": {
    "slideshow": {
     "slide_type": "subslide"
    }
   },
   "source": [
    "# Echo Client ( 1 of 2)"
   ]
  },
  {
   "cell_type": "markdown",
   "metadata": {},
   "source": [
    "```python\n",
    "import socket\n",
    "import sys\n",
    "\n",
    "sock = socket.socket(socket.AF_INET, \n",
    "                     socket.SOCK_STREAM)\n",
    "sock.connect(('localhost', 10000))\n",
    "```"
   ]
  },
  {
   "cell_type": "markdown",
   "metadata": {
    "slideshow": {
     "slide_type": "notes"
    }
   },
   "source": [
    "* First we create the socket with the right settings, this combination gives you IPv4/TCP\n",
    "* Next we specify the host and port and connect to them.  The server must be listening there."
   ]
  },
  {
   "cell_type": "markdown",
   "metadata": {
    "slideshow": {
     "slide_type": "subslide"
    }
   },
   "source": [
    "# Echo Client"
   ]
  },
  {
   "cell_type": "markdown",
   "metadata": {},
   "source": [
    "```python\n",
    "try:\n",
    "    message = b'Hello'\n",
    "    sock.sendall(message)\n",
    "    amount_received = 0\n",
    "    amount_expected = len(message)\n",
    "    while amount_received < amount_expected:\n",
    "        data = sock.recv(16)\n",
    "        amount_received += len(data)\n",
    "finally:\n",
    "    sock.close()\n",
    "```"
   ]
  },
  {
   "cell_type": "markdown",
   "metadata": {
    "slideshow": {
     "slide_type": "notes"
    }
   },
   "source": [
    "* `sendall()` - sends data until done or error, returns `None`\n",
    "* `recv()` - receives response from server\n",
    "* `close()` - closes like you'd do with a filehandle"
   ]
  },
  {
   "cell_type": "markdown",
   "metadata": {
    "slideshow": {
     "slide_type": "subslide"
    }
   },
   "source": [
    "# Echo Server (1 of 2)"
   ]
  },
  {
   "cell_type": "markdown",
   "metadata": {},
   "source": [
    "```python\n",
    "import socket\n",
    "import sys\n",
    "\n",
    "sock = socket.socket(socket.AF_INET, \n",
    "                     socket.SOCK_STREAM)\n",
    "sock.bind(('localhost', 10000))\n",
    "sock.listen(1)\n",
    "```"
   ]
  },
  {
   "cell_type": "markdown",
   "metadata": {
    "slideshow": {
     "slide_type": "notes"
    }
   },
   "source": [
    "* Create the socket\n",
    "* `bind()` to the socket (associates process with port?)\n",
    "* `listen()` on that socket, connections are not accepted prior to listening."
   ]
  },
  {
   "cell_type": "markdown",
   "metadata": {
    "slideshow": {
     "slide_type": "subslide"
    }
   },
   "source": [
    "# Echo Server (2 of 2)"
   ]
  },
  {
   "cell_type": "markdown",
   "metadata": {},
   "source": [
    "```python\n",
    "while True:\n",
    "    connection, client_address = sock.accept()\n",
    "    try:\n",
    "        while True:\n",
    "            data = connection.recv(16)\n",
    "            if data:\n",
    "                connection.sendall(data)\n",
    "            else:\n",
    "                break\n",
    "    finally:\n",
    "        connection.close()\n",
    "```"
   ]
  },
  {
   "cell_type": "markdown",
   "metadata": {
    "slideshow": {
     "slide_type": "notes"
    }
   },
   "source": [
    "* `accept()` returns a socket and address for a specific client connection **BLOCKING**\n",
    "* `recv()` reads the specified number of bytes from that socket"
   ]
  },
  {
   "cell_type": "markdown",
   "metadata": {
    "slideshow": {
     "slide_type": "subslide"
    }
   },
   "source": [
    "# Now you try ...\n",
    "\n",
    "In one terminal ...\n",
    "\n",
    "```\n",
    "python3 ./server.py\n",
    "```\n",
    "\n",
    "in another ...\n",
    "\n",
    "```\n",
    "python3 ./client.py\n",
    "```"
   ]
  },
  {
   "cell_type": "markdown",
   "metadata": {
    "slideshow": {
     "slide_type": "slide"
    }
   },
   "source": [
    "<img src=\"python-logo-generic.svg\" alt=\"Python Logo\">\n",
    "\n",
    "# Python Network Sockets\n",
    "\n",
    "**Austin Godber**  \n",
    "**@godber**  \n",
    "DesertPy Co-Organizer  \n",
    "Meetup, Github and http://desertpy.com"
   ]
  }
 ],
 "metadata": {
  "celltoolbar": "Slideshow",
  "kernelspec": {
   "display_name": "Python 3",
   "language": "python",
   "name": "python3"
  },
  "language_info": {
   "codemirror_mode": {
    "name": "ipython",
    "version": 3
   },
   "file_extension": ".py",
   "mimetype": "text/x-python",
   "name": "python",
   "nbconvert_exporter": "python",
   "pygments_lexer": "ipython3",
   "version": "3.5.3"
  }
 },
 "nbformat": 4,
 "nbformat_minor": 1
}
